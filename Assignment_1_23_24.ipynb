{
  "cells": [
    {
      "cell_type": "markdown",
      "metadata": {
        "id": "view-in-github",
        "colab_type": "text"
      },
      "source": [
        "<a href=\"https://colab.research.google.com/github/sunna69/test/blob/main/Assignment_1_23_24.ipynb\" target=\"_parent\"><img src=\"https://colab.research.google.com/assets/colab-badge.svg\" alt=\"Open In Colab\"/></a>"
      ]
    },
    {
      "cell_type": "markdown",
      "metadata": {
        "id": "JV5YbbVNlCLl"
      },
      "source": [
        "# Avanced Automation - Assignment 1\n",
        "\n",
        "To be delivered until 2023-12-10 23:59:59."
      ]
    },
    {
      "cell_type": "markdown",
      "metadata": {
        "id": "A746fsNRldR4"
      },
      "source": [
        "## Section 1 -- Linear Regression\n",
        "\n",
        "**1.** Consider a dataset with 100 observations, containing a single predictor and a quantitative response. Two different models are fitted to the data, a linear regression ($m_1: Y = \\beta_0 + \\beta_1 X + \\epsilon$) and a cubic regression ($m_2: Y = \\beta_0 + \\beta_1 X + \\beta_2 X^2 + \\beta_3 X^3 + \\epsilon$)."
      ]
    },
    {
      "cell_type": "code",
      "source": [
        "from google.colab import drive\n",
        "drive.mount('/content/drive')"
      ],
      "metadata": {
        "id": "mZsO_9PIX_iq",
        "colab": {
          "base_uri": "https://localhost:8080/"
        },
        "outputId": "89e4920e-1aad-4f74-cebc-9f63950cf3a2"
      },
      "execution_count": null,
      "outputs": [
        {
          "output_type": "stream",
          "name": "stdout",
          "text": [
            "Mounted at /content/drive\n"
          ]
        }
      ]
    },
    {
      "cell_type": "code",
      "source": [],
      "metadata": {
        "id": "sWpSreJwWJU0"
      },
      "execution_count": null,
      "outputs": []
    },
    {
      "cell_type": "code",
      "source": [],
      "metadata": {
        "id": "wJHq-VG1Rx7h"
      },
      "execution_count": null,
      "outputs": []
    },
    {
      "cell_type": "markdown",
      "metadata": {
        "id": "gOuCfx3sm8hZ"
      },
      "source": [
        "**1.a)** Suppose that the actual relation between X and Y is linear. Can the **training** residual sum of squares (RSS) of the linear model be expected to be smaller, larger or equal to the one from the cubic model? Or is there no information to tell? Justify your answer."
      ]
    },
    {
      "cell_type": "code",
      "source": [],
      "metadata": {
        "id": "cnax8Zb7TmfB"
      },
      "execution_count": null,
      "outputs": []
    },
    {
      "cell_type": "markdown",
      "metadata": {
        "id": "h6V7QbAN6BIt"
      },
      "source": [
        "The cubic model might performe better on the TRAINING-data, resulting in a lower RSS on the training-data. This is because of the extra compexity, wich allows the model to capture noisy data, resulting in good RSS score on the training data, but not on unseen data. This means the m2 generalizes worse than m1."
      ]
    },
    {
      "cell_type": "markdown",
      "metadata": {
        "id": "f-Z6e3nem88s"
      },
      "source": [
        "**1.b)** Answer question 1.a) considering the test RSS rather than the training RSS."
      ]
    },
    {
      "cell_type": "code",
      "source": [],
      "metadata": {
        "id": "NbKmccJ8TxRs"
      },
      "execution_count": null,
      "outputs": []
    },
    {
      "cell_type": "markdown",
      "metadata": {
        "id": "8Ng5yyIL7sUE"
      },
      "source": [
        "The RSS on the test data is expected to be a smaller number from the m1 model, using linear regression, as this model is linear, and therefor maches the relation between X and Y (also linear). On the other hand, the second model, the cubic regression, will overfit, because it introduces unesssesary compexity to the solution. This complexity might make it look good in the training data, but generalizes poorly on unseen data."
      ]
    },
    {
      "cell_type": "markdown",
      "metadata": {
        "id": "gmhX35ckm9St"
      },
      "source": [
        "**1.c)** Suppose that the actual relationship between X and Y is not linear, but it is not known how far it is from being linear. What is it expected of the the **training** RSS for the linear compared with the cubic models? Or is there not enough information? Justify your answer."
      ]
    },
    {
      "cell_type": "markdown",
      "metadata": {
        "id": "l3JRaXd28SUz"
      },
      "source": [
        "The cubic modelo will give the lowest RSS score, based on the same logic as before, the relationship between X and Y is linear enough that the cubic model will overfit and perform well on the seen training data. But if the relationship is not linear, the linear model will not be able to capture the true relationship in a good way."
      ]
    },
    {
      "cell_type": "markdown",
      "metadata": {
        "id": "68b9Gt-Sm9lp"
      },
      "source": [
        "**1.d)** Answer question 1.c) considering the test RSS rather than the training RSS."
      ]
    },
    {
      "cell_type": "markdown",
      "metadata": {
        "id": "FWjI9xe36tk2"
      },
      "source": [
        "here its not easy to give a straight answer. This is because there will be a point in the relationship between X and Y goes from being linear enough that the linear model will give a lower RSS score, based on the same logic as before, to the relationship being so unlinear that the linear model will not be able to capture the complexity of the relationship, so the cubic model will give the lower RSS score."
      ]
    },
    {
      "cell_type": "markdown",
      "metadata": {
        "id": "dIseX_e8Wnpk"
      },
      "source": [
        "**2.** Consider now the Palmer Archipelago penguin data. It consists of physical measurements of male and female adult penguins from three species that live in three different islands of the Palmer Archipelago in Antarctica."
      ]
    },
    {
      "cell_type": "markdown",
      "metadata": {
        "id": "JlY6gihzHUm5"
      },
      "source": [
        "**2.a)** Load the dataset `penguins_size.csv`."
      ]
    },
    {
      "cell_type": "code",
      "execution_count": null,
      "metadata": {
        "id": "UJxs-3Vp9IhJ"
      },
      "outputs": [],
      "source": [
        "import numpy as np\n",
        "import pandas as pd\n",
        "\n",
        "path = \"/content/penguins_size.csv\"\n",
        "df = pd.read_csv(path)\n",
        "#344 rows 7 columns"
      ]
    },
    {
      "cell_type": "markdown",
      "metadata": {
        "id": "OcMQAAaeWnpl"
      },
      "source": [
        "**2.b)** Discard any row that has a missing value."
      ]
    },
    {
      "cell_type": "code",
      "execution_count": null,
      "metadata": {
        "colab": {
          "base_uri": "https://localhost:8080/"
        },
        "id": "Pr8qNjeOWnpl",
        "outputId": "9851fb8b-c710-4daf-fba1-3689c3a01beb"
      },
      "outputs": [
        {
          "output_type": "stream",
          "name": "stdout",
          "text": [
            "    species     island  culmen_length_mm  culmen_depth_mm  flipper_length_mm  \\\n",
            "0    Adelie  Torgersen              39.1             18.7              181.0   \n",
            "1    Adelie  Torgersen              39.5             17.4              186.0   \n",
            "2    Adelie  Torgersen              40.3             18.0              195.0   \n",
            "4    Adelie  Torgersen              36.7             19.3              193.0   \n",
            "5    Adelie  Torgersen              39.3             20.6              190.0   \n",
            "..      ...        ...               ...              ...                ...   \n",
            "338  Gentoo     Biscoe              47.2             13.7              214.0   \n",
            "340  Gentoo     Biscoe              46.8             14.3              215.0   \n",
            "341  Gentoo     Biscoe              50.4             15.7              222.0   \n",
            "342  Gentoo     Biscoe              45.2             14.8              212.0   \n",
            "343  Gentoo     Biscoe              49.9             16.1              213.0   \n",
            "\n",
            "     body_mass_g     sex  \n",
            "0         3750.0    MALE  \n",
            "1         3800.0  FEMALE  \n",
            "2         3250.0  FEMALE  \n",
            "4         3450.0  FEMALE  \n",
            "5         3650.0    MALE  \n",
            "..           ...     ...  \n",
            "338       4925.0  FEMALE  \n",
            "340       4850.0  FEMALE  \n",
            "341       5750.0    MALE  \n",
            "342       5200.0  FEMALE  \n",
            "343       5400.0    MALE  \n",
            "\n",
            "[333 rows x 7 columns]\n"
          ]
        }
      ],
      "source": [
        "import numpy as np\n",
        "import pandas as pd\n",
        "\n",
        "path = \"/content/penguins_size.csv\"\n",
        "df = pd.read_csv(path)\n",
        "df = df.dropna()\n",
        "print(df)\n",
        "#333 rows 7 columns"
      ]
    },
    {
      "cell_type": "markdown",
      "metadata": {
        "id": "a953Fo5ZWnpl"
      },
      "source": [
        "**2.c)** How many penguins of each `species` and `sex` live in each `island`? Answer this question with `pandas`."
      ]
    },
    {
      "cell_type": "code",
      "execution_count": null,
      "metadata": {
        "colab": {
          "base_uri": "https://localhost:8080/"
        },
        "id": "-NH_LG6tWnpl",
        "outputId": "86f68d03-4706-4490-d37c-5cb8347bffc8"
      },
      "outputs": [
        {
          "output_type": "stream",
          "name": "stdout",
          "text": [
            "      island     sex    species  count\n",
            "0     Biscoe  FEMALE     Adelie     22\n",
            "1     Biscoe  FEMALE     Gentoo     58\n",
            "2     Biscoe    MALE     Adelie     22\n",
            "3     Biscoe    MALE     Gentoo     61\n",
            "4      Dream  FEMALE     Adelie     27\n",
            "5      Dream  FEMALE  Chinstrap     34\n",
            "6      Dream    MALE     Adelie     28\n",
            "7      Dream    MALE  Chinstrap     34\n",
            "8  Torgersen  FEMALE     Adelie     24\n",
            "9  Torgersen    MALE     Adelie     23\n"
          ]
        }
      ],
      "source": [
        "import numpy as np\n",
        "import pandas as pd\n",
        "\n",
        "path = \"/content/penguins_size.csv\"\n",
        "df = pd.read_csv(path)\n",
        "df = df.dropna()\n",
        "penguins_count = df.groupby(['island', 'sex', 'species']).size().reset_index(name='count')\n",
        "print(penguins_count)"
      ]
    },
    {
      "cell_type": "markdown",
      "metadata": {
        "id": "8sE9W_qMWnpl"
      },
      "source": [
        "**2.d)** Plot a correlation matrix of the numerical columns (with a statistical significance of 0.1%)."
      ]
    },
    {
      "cell_type": "code",
      "execution_count": null,
      "metadata": {
        "colab": {
          "base_uri": "https://localhost:8080/",
          "height": 699
        },
        "id": "9kLXBU8-Wnpl",
        "outputId": "dc4ce9a7-6d60-42bc-e2d3-be7c15bb8187"
      },
      "outputs": [
        {
          "output_type": "display_data",
          "data": {
            "text/plain": [
              "<Figure size 1000x800 with 2 Axes>"
            ],
            "image/png": "[encoded data removed]"
          },
          "metadata": {}
        }
      ],
      "source": [
        "import numpy as np\n",
        "import pandas as pd\n",
        "import seaborn as sns\n",
        "import matplotlib.pyplot as plt\n",
        "\n",
        "path = \"/content/penguins_size.csv\"\n",
        "df = pd.read_csv(path)\n",
        "df = df.dropna()\n",
        "\n",
        "numerical_columns = df.select_dtypes(include=['float64', 'int64'])\n",
        "\n",
        "correlation_matrix = numerical_columns.corr()\n",
        "plt.figure(figsize=(10, 8))\n",
        "\n",
        "sns.heatmap(correlation_matrix, annot=True, cmap='coolwarm', vmin=-1, vmax=1, fmt=\".2f\", linewidths=.5)\n",
        "plt.title('Correlation Matrix of Numerical Columns')\n",
        "plt.show()"
      ]
    },
    {
      "cell_type": "markdown",
      "metadata": {
        "id": "BM90R_i8OCik"
      },
      "source": [
        "**2.e)** Perform a simple linear regression considering `body_mass_g` as the response and `flipper_length_mm` as the predictor. Print the obtained model and the $R^2$. Explain why this is a good choice of predictor."
      ]
    },
    {
      "cell_type": "code",
      "execution_count": null,
      "metadata": {
        "id": "teI35X_p9TAM",
        "colab": {
          "base_uri": "https://localhost:8080/",
          "height": 521
        },
        "outputId": "7996e1be-8611-4bc7-b8d8-b2d681535439"
      },
      "outputs": [
        {
          "output_type": "stream",
          "name": "stdout",
          "text": [
            "                            OLS Regression Results                            \n",
            "==============================================================================\n",
            "Dep. Variable:            body_mass_g   R-squared:                       0.762\n",
            "Model:                            OLS   Adj. R-squared:                  0.761\n",
            "Method:                 Least Squares   F-statistic:                     1060.\n",
            "Date:                Sun, 10 Dec 2023   Prob (F-statistic):          3.13e-105\n",
            "Time:                        15:45:16   Log-Likelihood:                -2461.1\n",
            "No. Observations:                 333   AIC:                             4926.\n",
            "Df Residuals:                     331   BIC:                             4934.\n",
            "Df Model:                           1                                         \n",
            "Covariance Type:            nonrobust                                         \n",
            "=====================================================================================\n",
            "                        coef    std err          t      P>|t|      [0.025      0.975]\n",
            "-------------------------------------------------------------------------------------\n",
            "const             -5872.0927    310.285    -18.925      0.000   -6482.472   -5261.713\n",
            "flipper_length_mm    50.1533      1.540     32.562      0.000      47.123      53.183\n",
            "==============================================================================\n",
            "Omnibus:                        5.922   Durbin-Watson:                   2.102\n",
            "Prob(Omnibus):                  0.052   Jarque-Bera (JB):                5.876\n",
            "Skew:                           0.325   Prob(JB):                       0.0530\n",
            "Kurtosis:                       3.025   Cond. No.                     2.90e+03\n",
            "==============================================================================\n",
            "\n",
            "Notes:\n",
            "[1] Standard Errors assume that the covariance matrix of the errors is correctly specified.\n",
            "[2] The condition number is large, 2.9e+03. This might indicate that there are\n",
            "strong multicollinearity or other numerical problems.\n"
          ]
        },
        {
          "output_type": "execute_result",
          "data": {
            "text/plain": [
              "'\\nAfter fitting the model,\\nexamining the R-squared value can give you an idea of how well\\nthe model explains the variability in the response variable.\\nA higher R-squared value suggests a better fit. Our R-squared value\\nis quite high, which indicates a good choice.\\n'"
            ],
            "application/vnd.google.colaboratory.intrinsic+json": {
              "type": "string"
            }
          },
          "metadata": {},
          "execution_count": 20
        }
      ],
      "source": [
        "import numpy as np\n",
        "import pandas as pd\n",
        "import seaborn as sns\n",
        "import matplotlib.pyplot as plt\n",
        "import statsmodels.api as sm\n",
        "\n",
        "path = \"/content/penguins_size.csv\"\n",
        "df = pd.read_csv(path)\n",
        "df = df.dropna()\n",
        "\n",
        "X = df['flipper_length_mm']\n",
        "Y = df['body_mass_g']\n",
        "X = sm.add_constant(X)\n",
        "\n",
        "model = sm.OLS(Y, X).fit()\n",
        "print(model.summary())\n",
        "\n",
        "'''\n",
        "After fitting the model,\n",
        "examining the R-squared value can give you an idea of how well\n",
        "the model explains the variability in the response variable.\n",
        "A higher R-squared value suggests a better fit. Our R-squared value\n",
        "is quite high, which indicates a good choice.\n",
        "'''\n"
      ]
    },
    {
      "cell_type": "markdown",
      "metadata": {
        "id": "yRYL0_TeQQfp"
      },
      "source": [
        "**2.f)** Plot a scatter plot of the response and predictor, along with the regression line."
      ]
    },
    {
      "cell_type": "code",
      "execution_count": null,
      "metadata": {
        "id": "S7QpN6n1APVa",
        "colab": {
          "base_uri": "https://localhost:8080/",
          "height": 564
        },
        "outputId": "44187b3b-ba60-4c7f-a9a6-ba5447bcc73e"
      },
      "outputs": [
        {
          "output_type": "display_data",
          "data": {
            "text/plain": [
              "<Figure size 1000x600 with 1 Axes>"
            ],
            "image/png": "[encoded data removed]"
          },
          "metadata": {}
        }
      ],
      "source": [
        "import numpy as np\n",
        "import pandas as pd\n",
        "import seaborn as sns\n",
        "import matplotlib.pyplot as plt\n",
        "import statsmodels.api as sm\n",
        "\n",
        "path = \"/content/penguins_size.csv\"\n",
        "df = pd.read_csv(path)\n",
        "df = df.dropna()\n",
        "\n",
        "X = df['flipper_length_mm']\n",
        "Y = df['body_mass_g']\n",
        "X = sm.add_constant(X)\n",
        "\n",
        "model = sm.OLS(Y, X).fit()\n",
        "predicted_values = model.predict(X)\n",
        "\n",
        "plt.figure(figsize=(10, 6))\n",
        "sns.scatterplot(x=X['flipper_length_mm'], y=Y, label='Actual Data')\n",
        "plt.plot(X['flipper_length_mm'], predicted_values, color='red', label='Regression Line')\n",
        "plt.xlabel('Flipper Length (mm)')\n",
        "plt.ylabel('Body Mass (g)')\n",
        "plt.title('Scatter Plot with Regression Line')\n",
        "plt.legend()\n",
        "plt.show()"
      ]
    },
    {
      "cell_type": "markdown",
      "metadata": {
        "id": "JXhkCzPFWnpm"
      },
      "source": [
        "**2.g)** A baby penguin has a flipper length of around 50 mm. What is the predicted value of the body mass of a baby penguin? Comment on the prediction of the model."
      ]
    },
    {
      "cell_type": "code",
      "execution_count": null,
      "metadata": {
        "id": "nhHEYMEwWnpm",
        "colab": {
          "base_uri": "https://localhost:8080/"
        },
        "outputId": "02bd1649-b15d-495a-a60e-67944536f3d9"
      },
      "outputs": [
        {
          "output_type": "stream",
          "name": "stdout",
          "text": [
            "The predicted body mass for a baby penguin with a flipper length of 50 mm is approximately 3364.43 grams.\n"
          ]
        }
      ],
      "source": [
        "import numpy as np\n",
        "import pandas as pd\n",
        "import seaborn as sns\n",
        "import matplotlib.pyplot as plt\n",
        "import statsmodels.api as sm\n",
        "\n",
        "path = \"/content/penguins_size.csv\"\n",
        "df = pd.read_csv(path)\n",
        "df = df.dropna()\n",
        "\n",
        "X = df['flipper_length_mm']\n",
        "Y = df['body_mass_g']\n",
        "X = sm.add_constant(X)\n",
        "\n",
        "model = sm.OLS(Y, X).fit()\n",
        "new_data = pd.DataFrame({'const': 1, 'flipper_length_mm': [50]})\n",
        "predicted_body_mass = abs(model.predict(new_data))\n",
        "\n",
        "print(f\"The predicted body mass for a baby penguin with a flipper length of 50 mm is approximately {predicted_body_mass.iloc[0]:.2f} grams.\")\n",
        "\n"
      ]
    },
    {
      "cell_type": "markdown",
      "metadata": {
        "id": "DzX4_KagWnpn"
      },
      "source": [
        "**2.h)** Perform a multiple linear regression considering `body_mass_g` as the response and using all numerical predictors. Compare the $R^2$ of the simple linear regression model and the multiple linear regression model."
      ]
    },
    {
      "cell_type": "code",
      "execution_count": null,
      "metadata": {
        "id": "Gr1rOUyPWnpn",
        "colab": {
          "base_uri": "https://localhost:8080/",
          "height": 539
        },
        "outputId": "a9e79718-e5b9-4919-9423-75186c221ac5"
      },
      "outputs": [
        {
          "output_type": "stream",
          "name": "stdout",
          "text": [
            "                            OLS Regression Results                            \n",
            "==============================================================================\n",
            "Dep. Variable:            body_mass_g   R-squared:                       0.764\n",
            "Model:                            OLS   Adj. R-squared:                  0.762\n",
            "Method:                 Least Squares   F-statistic:                     354.9\n",
            "Date:                Sun, 10 Dec 2023   Prob (F-statistic):          9.26e-103\n",
            "Time:                        15:45:16   Log-Likelihood:                -2459.8\n",
            "No. Observations:                 333   AIC:                             4928.\n",
            "Df Residuals:                     329   BIC:                             4943.\n",
            "Df Model:                           3                                         \n",
            "Covariance Type:            nonrobust                                         \n",
            "=====================================================================================\n",
            "                        coef    std err          t      P>|t|      [0.025      0.975]\n",
            "-------------------------------------------------------------------------------------\n",
            "const             -6445.4760    566.130    -11.385      0.000   -7559.167   -5331.785\n",
            "culmen_length_mm      3.2929      5.366      0.614      0.540      -7.263      13.849\n",
            "culmen_depth_mm      17.8364     13.826      1.290      0.198      -9.362      45.035\n",
            "flipper_length_mm    50.7621      2.497     20.327      0.000      45.850      55.675\n",
            "==============================================================================\n",
            "Omnibus:                        5.596   Durbin-Watson:                   1.968\n",
            "Prob(Omnibus):                  0.061   Jarque-Bera (JB):                5.469\n",
            "Skew:                           0.312   Prob(JB):                       0.0649\n",
            "Kurtosis:                       3.068   Cond. No.                     5.44e+03\n",
            "==============================================================================\n",
            "\n",
            "Notes:\n",
            "[1] Standard Errors assume that the covariance matrix of the errors is correctly specified.\n",
            "[2] The condition number is large, 5.44e+03. This might indicate that there are\n",
            "strong multicollinearity or other numerical problems.\n"
          ]
        },
        {
          "output_type": "execute_result",
          "data": {
            "text/plain": [
              "'\\nR^2 of simple linear regression is 0.762,\\nwhile R^2 of multiple linear regression model is 0.764\\n'"
            ],
            "application/vnd.google.colaboratory.intrinsic+json": {
              "type": "string"
            }
          },
          "metadata": {},
          "execution_count": 23
        }
      ],
      "source": [
        "import numpy as np\n",
        "import pandas as pd\n",
        "import seaborn as sns\n",
        "import matplotlib.pyplot as plt\n",
        "import statsmodels.api as sm\n",
        "\n",
        "path = \"/content/penguins_size.csv\"\n",
        "df = pd.read_csv(path)\n",
        "df = df.dropna()\n",
        "\n",
        "X_multi = df.select_dtypes(include=['float64', 'int64']).drop(columns='body_mass_g')\n",
        "X_multi = sm.add_constant(X_multi)\n",
        "Y_multi = df['body_mass_g']\n",
        "\n",
        "model_multi = sm.OLS(Y_multi, X_multi).fit()\n",
        "print(model_multi.summary())\n",
        "\n",
        "'''\n",
        "R^2 of simple linear regression is 0.762,\n",
        "while R^2 of multiple linear regression model is 0.764\n",
        "'''\n"
      ]
    },
    {
      "cell_type": "markdown",
      "metadata": {
        "id": "ZygYmH0eWnpn"
      },
      "source": [
        "**2.g)** Perform a multiple  linear regression considering `body_mass_g` as the response and using all predictors. Comment on the $R^2$ of this model."
      ]
    },
    {
      "cell_type": "code",
      "execution_count": null,
      "metadata": {
        "id": "Yz7gpHVjWnpn",
        "colab": {
          "base_uri": "https://localhost:8080/",
          "height": 626
        },
        "outputId": "416df1a0-f8e3-406c-a55c-d19ba828b3b2"
      },
      "outputs": [
        {
          "output_type": "stream",
          "name": "stdout",
          "text": [
            "                            OLS Regression Results                            \n",
            "==============================================================================\n",
            "Dep. Variable:            body_mass_g   R-squared:                       0.875\n",
            "Model:                            OLS   Adj. R-squared:                  0.872\n",
            "Method:                 Least Squares   F-statistic:                     284.1\n",
            "Date:                Sun, 10 Dec 2023   Prob (F-statistic):          1.85e-141\n",
            "Time:                        15:45:16   Log-Likelihood:                -2353.6\n",
            "No. Observations:                 333   AIC:                             4725.\n",
            "Df Residuals:                     324   BIC:                             4760.\n",
            "Df Model:                           8                                         \n",
            "Covariance Type:            nonrobust                                         \n",
            "=====================================================================================\n",
            "                        coef    std err          t      P>|t|      [0.025      0.975]\n",
            "-------------------------------------------------------------------------------------\n",
            "const             -1500.0291    575.822     -2.605      0.010   -2632.852    -367.207\n",
            "culmen_length_mm     18.1893      7.136      2.549      0.011       4.150      32.229\n",
            "culmen_depth_mm      67.5754     19.821      3.409      0.001      28.581     106.570\n",
            "flipper_length_mm    16.2385      2.939      5.524      0.000      10.456      22.021\n",
            "species_Chinstrap  -260.3063     88.551     -2.940      0.004    -434.513     -86.100\n",
            "species_Gentoo      987.7614    137.238      7.197      0.000     717.771    1257.752\n",
            "island_Dream        -13.1031     58.541     -0.224      0.823    -128.271     102.065\n",
            "island_Torgersen    -48.0636     60.922     -0.789      0.431    -167.915      71.788\n",
            "sex_MALE            387.2243     48.138      8.044      0.000     292.521     481.927\n",
            "==============================================================================\n",
            "Omnibus:                        1.114   Durbin-Watson:                   2.167\n",
            "Prob(Omnibus):                  0.573   Jarque-Bera (JB):                1.101\n",
            "Skew:                           0.139   Prob(JB):                        0.577\n",
            "Kurtosis:                       2.958   Cond. No.                     7.59e+03\n",
            "==============================================================================\n",
            "\n",
            "Notes:\n",
            "[1] Standard Errors assume that the covariance matrix of the errors is correctly specified.\n",
            "[2] The condition number is large, 7.59e+03. This might indicate that there are\n",
            "strong multicollinearity or other numerical problems.\n"
          ]
        },
        {
          "output_type": "execute_result",
          "data": {
            "text/plain": [
              "'\\nR^2 is now 0.875, making it higher than the other options. A higher\\nR^2 score indicates a better fit.\\n'"
            ],
            "application/vnd.google.colaboratory.intrinsic+json": {
              "type": "string"
            }
          },
          "metadata": {},
          "execution_count": 24
        }
      ],
      "source": [
        "import numpy as np\n",
        "import pandas as pd\n",
        "import seaborn as sns\n",
        "import matplotlib.pyplot as plt\n",
        "import statsmodels.api as sm\n",
        "\n",
        "path = \"/content/penguins_size.csv\"\n",
        "df = pd.read_csv(path)\n",
        "df = df.dropna()\n",
        "\n",
        "Y = df['body_mass_g']\n",
        "X = df.drop(columns=['body_mass_g'])\n",
        "X = pd.get_dummies(X, drop_first=True)\n",
        "X = sm.add_constant(X)\n",
        "\n",
        "model_all = sm.OLS(Y, X).fit()\n",
        "print(model_all.summary())\n",
        "\n",
        "'''\n",
        "R^2 is now 0.875, making it higher than the other options. A higher\n",
        "R^2 score indicates a better fit.\n",
        "'''"
      ]
    },
    {
      "cell_type": "markdown",
      "metadata": {
        "id": "1xBHkVadQ5Ot"
      },
      "source": [
        "## Section 2 -- Classification"
      ]
    },
    {
      "cell_type": "markdown",
      "metadata": {
        "id": "SIpGTVYkRD9A"
      },
      "source": [
        "**3)** Suppose that a dataset is divided into two equally-sized training and test sets, and then try out two different classification procedures:\n",
        "\n",
        "* The first is the logistic regression, obtaining an error rate of 20% on the training data and 30% on the test data.\n",
        "* The second is a 1-nearest neighbors, with an average error rate (averaged over test and training datasets) of 18%.\n",
        "\n",
        "Based on these results, which method is preferred for classifying new observations? Why?"
      ]
    },
    {
      "cell_type": "markdown",
      "metadata": {
        "id": "4oPohcizBV3J"
      },
      "source": [
        "Answer: We will choose the 1-nearest model. This model has a lower average error over both training and test data. The average is lower than both trainin- and test-error for the logistic regression modell. We do not know the training-error from the 1-nearest model, but it is reasonable to assume that the 1-nearest is better than the other model."
      ]
    },
    {
      "cell_type": "markdown",
      "metadata": {
        "id": "z0Ws08q_SVLO"
      },
      "source": [
        "**4.a)** Consider again the penguins dataset. However, the objective now is to predict the `sex` of the penguin based on the other variables. Split the data into test and training datasets. Consider a test dataset comprised of 30% of the whole dataset."
      ]
    },
    {
      "cell_type": "code",
      "execution_count": null,
      "metadata": {
        "id": "Zmk2OAC3w-W6",
        "colab": {
          "base_uri": "https://localhost:8080/"
        },
        "outputId": "e438dbd1-eca9-4b3c-b463-33ab7193502c"
      },
      "outputs": [
        {
          "output_type": "stream",
          "name": "stdout",
          "text": [
            "(344, 7)\n",
            "(333, 7)\n",
            "Training set shape: (233, 8) (233,)\n",
            "Test set shape: (100, 8) (100,)\n"
          ]
        },
        {
          "output_type": "stream",
          "name": "stderr",
          "text": [
            "/usr/local/lib/python3.10/dist-packages/sklearn/preprocessing/_encoders.py:868: FutureWarning: `sparse` was renamed to `sparse_output` in version 1.2 and will be removed in 1.4. `sparse_output` is ignored unless you leave `sparse` to its default value.\n",
            "  warnings.warn(\n"
          ]
        }
      ],
      "source": [
        "import numpy as np\n",
        "import pandas as pd\n",
        "from sklearn.model_selection import train_test_split\n",
        "from sklearn.preprocessing import StandardScaler, LabelEncoder, OneHotEncoder\n",
        "\n",
        "\n",
        "path = \"/content/penguins_size.csv\"\n",
        "df = pd.read_csv(path)\n",
        "print(df.shape)\n",
        "df = df.dropna()\n",
        "print(df.shape)\n",
        "\n",
        "X = df.drop('sex', axis=1)\n",
        "y= df['sex']\n",
        "\n",
        "# Separate numerical and categorical features\n",
        "numerical_features = ['culmen_length_mm', 'culmen_depth_mm', 'flipper_length_mm', 'body_mass_g']\n",
        "categorical_features = ['species','island']\n",
        "X_numerical = X[numerical_features]\n",
        "X_categorical = X[categorical_features]\n",
        "\n",
        "# Standardize numerical features\n",
        "scaler = StandardScaler()\n",
        "X_numerical_scaled = pd.DataFrame(scaler.fit_transform(X_numerical), columns=numerical_features)\n",
        "\n",
        "# One-hot encode categorical features (to avoid introducing unintended relationships between categories, as if each class was one number 1,2,3)\n",
        "onehot_encoder = OneHotEncoder(sparse=False, drop='first')\n",
        "X_categorical_encoded = pd.DataFrame(onehot_encoder.fit_transform(X_categorical), columns=onehot_encoder.get_feature_names_out(categorical_features))\n",
        "X_processed = pd.concat([X_numerical_scaled, X_categorical_encoded], axis=1)\n",
        "\n",
        "# Split the data. Training and test\n",
        "X_train, X_test, y_train, y_test = train_test_split(X_processed, y, test_size=0.3, random_state=42)\n",
        "\n",
        "\n",
        "\n",
        "\n",
        "print(\"Training set shape:\", X_train.shape, y_train.shape)\n",
        "print(\"Test set shape:\", X_test.shape, y_test.shape)"
      ]
    },
    {
      "cell_type": "markdown",
      "metadata": {
        "id": "IWepa-QISjbZ"
      },
      "source": [
        "**4.b)** Perform LDA on the training data in order to predict `sex` using the remaining variables. What is the test error of the model obtained?"
      ]
    },
    {
      "cell_type": "code",
      "execution_count": null,
      "metadata": {
        "id": "bQquLCRDyizP",
        "colab": {
          "base_uri": "https://localhost:8080/"
        },
        "outputId": "c0772f87-ef0f-4f50-c9d4-06cc91ffda1f"
      },
      "outputs": [
        {
          "output_type": "stream",
          "name": "stdout",
          "text": [
            "\n",
            "LDA\n",
            "Test Accuracy: 0.91\n",
            "Test Error: 0.08999999999999997\n"
          ]
        }
      ],
      "source": [
        "from sklearn.discriminant_analysis import LinearDiscriminantAnalysis\n",
        "from sklearn.metrics import accuracy_score\n",
        "\n",
        "lda = LinearDiscriminantAnalysis()\n",
        "lda.fit(X_train, y_train)\n",
        "y_pred_lda = lda.predict(X_test)\n",
        "accuracy_lda = accuracy_score(y_test, y_pred_lda)\n",
        "print()\n",
        "print(\"LDA\")\n",
        "print(\"Test Accuracy:\", accuracy_lda)\n",
        "print(\"Test Error:\", 1 - accuracy_lda)"
      ]
    },
    {
      "cell_type": "markdown",
      "metadata": {
        "id": "YWiMguFvSjWE"
      },
      "source": [
        "**4.c)** Perform QDA on the training data in order to predict `sex` using the remaining variables. What is the test error of the model obtained?"
      ]
    },
    {
      "cell_type": "code",
      "execution_count": null,
      "metadata": {
        "id": "bvzDUm5sze_l",
        "colab": {
          "base_uri": "https://localhost:8080/"
        },
        "outputId": "d91fcc45-dec8-4529-a664-4703721a17ce"
      },
      "outputs": [
        {
          "output_type": "stream",
          "name": "stdout",
          "text": [
            "\n",
            "QDA\n",
            "Test Accuracy: 0.88\n",
            "Test Error: 0.12\n"
          ]
        }
      ],
      "source": [
        "from sklearn.discriminant_analysis import QuadraticDiscriminantAnalysis\n",
        "\n",
        "qda = QuadraticDiscriminantAnalysis()\n",
        "qda.fit(X_train, y_train)\n",
        "y_pred_qda = qda.predict(X_test)\n",
        "accuracy_qda = accuracy_score(y_test, y_pred_qda)\n",
        "print()\n",
        "print(\"QDA\")\n",
        "print(\"Test Accuracy:\", accuracy_qda)\n",
        "print(\"Test Error:\", 1 - accuracy_qda)"
      ]
    },
    {
      "cell_type": "markdown",
      "metadata": {
        "id": "DFAhEuhSSjOz"
      },
      "source": [
        "**4.d)** Perform logistic regression on the training data in order to predict `sex` using the remaining variables. What is the test error of the model obtained?"
      ]
    },
    {
      "cell_type": "code",
      "execution_count": null,
      "metadata": {
        "id": "7oVkI9QUzufY",
        "colab": {
          "base_uri": "https://localhost:8080/"
        },
        "outputId": "8bab7166-8d79-4026-f4dd-66ce13bf4beb"
      },
      "outputs": [
        {
          "output_type": "stream",
          "name": "stdout",
          "text": [
            "\n",
            "logreg\n",
            "Test Accuracy: 0.89\n",
            "Test Error: 0.10999999999999999\n"
          ]
        }
      ],
      "source": [
        "from sklearn.linear_model import LogisticRegression\n",
        "\n",
        "logreg = LogisticRegression(random_state=42)\n",
        "logreg.fit(X_train, y_train)\n",
        "y_pred_logreg = logreg.predict(X_test)\n",
        "accuracy_logreg = accuracy_score(y_test, y_pred_logreg)\n",
        "print()\n",
        "print(\"logreg\")\n",
        "print(\"Test Accuracy:\", accuracy_logreg)\n",
        "print(\"Test Error:\", 1 - accuracy_logreg)"
      ]
    },
    {
      "cell_type": "markdown",
      "metadata": {
        "id": "dJUvW41ViqMc"
      },
      "source": [
        "**4.e)** Perform naive Bayes on the training data in order to predict `sex` using the remaining variables. What is the test error of the model obtained?"
      ]
    },
    {
      "cell_type": "code",
      "execution_count": null,
      "metadata": {
        "id": "U6pzjPGc1y_t",
        "colab": {
          "base_uri": "https://localhost:8080/"
        },
        "outputId": "7409f073-8d89-4d1c-9bd4-7287ed683d42"
      },
      "outputs": [
        {
          "output_type": "stream",
          "name": "stdout",
          "text": [
            "\n",
            "Naive Bayes\n",
            "Test Accuracy: 0.64\n",
            "Test Error: 0.36\n"
          ]
        }
      ],
      "source": [
        "from sklearn.naive_bayes import GaussianNB\n",
        "\n",
        "naive_bayes = GaussianNB()\n",
        "naive_bayes.fit(X_train, y_train)\n",
        "y_pred_nb = naive_bayes.predict(X_test)\n",
        "accuracy_nb = accuracy_score(y_test, y_pred_nb)\n",
        "print()\n",
        "print(\"Naive Bayes\")\n",
        "print(\"Test Accuracy:\", accuracy_nb)\n",
        "print(\"Test Error:\", 1 - accuracy_nb)"
      ]
    },
    {
      "cell_type": "markdown",
      "metadata": {
        "id": "tPRBsCLviqKm"
      },
      "source": [
        "**4.f)** Perform KNN on the training data, with several values of K, in order to predict `sex`. What test errors are obtained? Which value of K seems to perform the best on this data set?"
      ]
    },
    {
      "cell_type": "code",
      "execution_count": null,
      "metadata": {
        "id": "KCXGQmN52G7W",
        "colab": {
          "base_uri": "https://localhost:8080/"
        },
        "outputId": "ad4f8a2d-bfc9-4646-f8a0-e9fcc496434f"
      },
      "outputs": [
        {
          "output_type": "stream",
          "name": "stdout",
          "text": [
            "\n",
            "K-nearest\n",
            "K = 1, Test Error: 0.08999999999999997\n",
            "K = 2, Test Error: 0.08999999999999997\n",
            "K = 3, Test Error: 0.10999999999999999\n",
            "K = 4, Test Error: 0.10999999999999999\n",
            "K = 5, Test Error: 0.10999999999999999\n",
            "Best K value: 1\n"
          ]
        }
      ],
      "source": [
        "from sklearn.neighbors import KNeighborsClassifier\n",
        "\n",
        "k_values = [1, 2, 3, 4, 5]\n",
        "test_errors = {}\n",
        "print()\n",
        "print(\"K-nearest\")\n",
        "for k in k_values:\n",
        "    knn = KNeighborsClassifier(n_neighbors=k)\n",
        "    knn.fit(X_train, y_train)\n",
        "    y_pred_knn = knn.predict(X_test)\n",
        "    accuracy_knn = accuracy_score(y_test, y_pred_knn)\n",
        "    test_error_knn = 1 - accuracy_knn\n",
        "    test_errors[k] = test_error_knn\n",
        "    print(f\"K = {k}, Test Error: {test_error_knn}\")\n",
        "best_k = min(test_errors, key=test_errors.get)\n",
        "print(f\"Best K value: {best_k}\")"
      ]
    },
    {
      "cell_type": "markdown",
      "source": [],
      "metadata": {
        "id": "yYPtgP4Q8pZY"
      }
    },
    {
      "cell_type": "markdown",
      "metadata": {
        "id": "nvhamoK0i2WZ"
      },
      "source": [
        "**4.g)** Plot the ROC curve and calculate the area under curve (AUC) for the LDA, QDA, logistic regression, naive Bayes and for the best value of K for the KNN method. Compare the results."
      ]
    },
    {
      "cell_type": "code",
      "execution_count": null,
      "metadata": {
        "id": "iNXZovNn8Wlv",
        "colab": {
          "base_uri": "https://localhost:8080/",
          "height": 718
        },
        "outputId": "583e1bee-9090-43aa-9fdf-25d37fd5c66b"
      },
      "outputs": [
        {
          "output_type": "display_data",
          "data": {
            "text/plain": [
              "<Figure size 1000x800 with 1 Axes>"
            ],
            "image/png": "[encoded data removed]"
          },
          "metadata": {}
        }
      ],
      "source": [
        "import matplotlib.pyplot as plt\n",
        "from sklearn.metrics import roc_curve, auc\n",
        "from sklearn.preprocessing import label_binarize\n",
        "from sklearn.multiclass import OneVsRestClassifier\n",
        "\n",
        "plt.figure(figsize=(10, 8))\n",
        "for name, clf in zip(['LDA', 'QDA', 'Logistic Regression', 'Naive Bayes', 'KNN'], [lda, qda, logreg, naive_bayes, KNeighborsClassifier(n_neighbors=best_k)]):\n",
        "    if name != 'KNN':\n",
        "        clf = OneVsRestClassifier(clf)\n",
        "    y_bin = label_binarize(y_test, classes=['FEMALE', 'MALE'])\n",
        "    # Handle classifiers that have 'decision_function'\n",
        "    try:\n",
        "        y_score = clf.fit(X_train, y_train).decision_function(X_test)\n",
        "    except AttributeError:\n",
        "        # If no 'decision_function', use 'predict_proba'\n",
        "        y_score = clf.fit(X_train, y_train).predict_proba(X_test)[:, 1]\n",
        "\n",
        "    fpr, tpr, _ = roc_curve(y_bin.ravel(), y_score.ravel())\n",
        "    roc_auc = auc(fpr, tpr)\n",
        "    plt.plot(fpr, tpr, label=f'{name} (AUC = {roc_auc:.2f})')\n",
        "\n",
        "plt.plot([0, 1], [0, 1], linestyle='--', color='gray', label='Random', alpha=0.5)\n",
        "plt.xlabel('False Positive Rate')\n",
        "plt.ylabel('True Positive Rate')\n",
        "plt.title('Receiver Operating Characteristic (ROC) Curve')\n",
        "plt.legend(loc='lower right')\n",
        "plt.show()"
      ]
    },
    {
      "cell_type": "markdown",
      "metadata": {
        "id": "jEtBKnHni2GT"
      },
      "source": [
        "## Section 3 -- Bootstrap and k-Fold"
      ]
    },
    {
      "cell_type": "markdown",
      "metadata": {
        "id": "AyCSRMx2pDsm"
      },
      "source": [
        "\n",
        "\n",
        "```\n",
        "# Dette er formatert som kode\n",
        "```\n",
        "\n",
        "**5.a)** Explain how k-fold cross-validation is implemented."
      ]
    },
    {
      "cell_type": "markdown",
      "metadata": {
        "id": "Bh8t6HC49HIl"
      },
      "source": [
        "K-fold cross-validation is implemented by dividing the dataset into K subsets. Then it uses K-1 subsets for training and the last subset for testing. This process is repeated K times, with each subset used once as the test set. The model's performance is then averaged over the K iterations. This methode might give a more reliable estimate of performance."
      ]
    },
    {
      "cell_type": "markdown",
      "metadata": {
        "id": "MbIethdmpcwr"
      },
      "source": [
        "**5.b)** What are the advantages and disadvantages of k-Fold cross-validation relative to:\n",
        "\n",
        "1. Validation set approach.\n",
        "2. Leave One Out Cross-Validation (LOOCV)."
      ]
    },
    {
      "cell_type": "markdown",
      "metadata": {
        "id": "F_U7i3m1MYWh"
      },
      "source": [
        "1: k_fold CV compared to validation set approach:\n",
        "+ Pro: Gives a more realistic estimate of the performance by, because of the use of several test/train splits.\n",
        "+ Pro: Variations in tha data will have a smaller impact on the perfomrnace measure because of the different slipts.\n",
        "- Con: Higher comutational cost, because of several iterations\n",
        "\n",
        "2: k-fold CV compared to Leave One Out CV:\n",
        "+ Pro: k-folk has lower variance. This is because LOOCV has higher sensitivity to individual data points.\n",
        "+ Pro: k-fold CV is less computationally expencive. Because LOOCV builds n models, insted of k models, as k-fold CV does (k<n).\n",
        "- Con: k-fold may have a highe bias than LOOCV(tend to understate the performance more).\n",
        "\n"
      ]
    },
    {
      "cell_type": "markdown",
      "metadata": {
        "id": "jOcCUxFMpAGw"
      },
      "source": [
        "## Section 4 -- Other Questions"
      ]
    },
    {
      "cell_type": "markdown",
      "metadata": {
        "id": "jUkJU0D7pFWO"
      },
      "source": [
        "**6)** In your group's option, what are the advantages and disadvantages of using a virtual environment when programming in Python?"
      ]
    },
    {
      "cell_type": "markdown",
      "metadata": {
        "id": "4gyfaAIi9KVM"
      },
      "source": [
        "Advantages:\n",
        "Working in a isolated virtual environment provides a structure to our group. It minimizes the dependency conlficts and ensures consistency across all stages of the development of this class assignement. Also, installation of packages and working with virtual environments is much easier this way.\n",
        "\n",
        "\n",
        "\n",
        "Disadvantages: It was quite a learning curve for our group to work in a virtual environment. It took some time for our group to get used to the new environment. Another disadvantage is that it takes up a lot of disk space.\n",
        "The IDE is less advanced. For example, when highlighting a variable, the IDE does not show all the other locations of this variable. Also, there is no autofill of code, etc.\n",
        "Risky in case of deleting or losing code.\n",
        "\n"
      ]
    },
    {
      "cell_type": "markdown",
      "metadata": {
        "id": "W8dWu7BXpFTc"
      },
      "source": [
        "**7)** In your group's opinion, in what circumstances is it better to use Jupyter Notebooks and when is it better to use Google Colab notebooks? Give some specific examples."
      ]
    },
    {
      "cell_type": "markdown",
      "metadata": {
        "id": "rtVRKNrS9vYB"
      },
      "source": [
        "It is better to use a Jupyter Notebook on local development, while Google colab is better for collaboratory work. An advantage with jupyter notebook is that it is easy to integrate with local tools. Google colab is still better when working with collaberatory work."
      ]
    },
    {
      "cell_type": "markdown",
      "metadata": {
        "id": "Sl0krfG6pFH6"
      },
      "source": [
        "**8)** Enter your GitHub repository webpage."
      ]
    },
    {
      "cell_type": "code",
      "execution_count": null,
      "metadata": {
        "id": "20eNzn5xWnpt",
        "colab": {
          "base_uri": "https://localhost:8080/",
          "height": 141
        },
        "outputId": "5b6a75f4-7188-4856-c576-b030428a9850"
      },
      "outputs": [
        {
          "output_type": "error",
          "ename": "SyntaxError",
          "evalue": "ignored",
          "traceback": [
            "\u001b[0;36m  File \u001b[0;32m\"<ipython-input-33-0a857348daf9>\"\u001b[0;36m, line \u001b[0;32m1\u001b[0m\n\u001b[0;31m    https://github.com/sunna69/AdvancedAutomation.git\u001b[0m\n\u001b[0m          ^\u001b[0m\n\u001b[0;31mSyntaxError\u001b[0m\u001b[0;31m:\u001b[0m invalid syntax\n"
          ]
        }
      ],
      "source": [
        "https://github.com/sunna69/AdvancedAutomation.git"
      ]
    }
  ],
  "metadata": {
    "colab": {
      "provenance": [],
      "include_colab_link": true
    },
    "kernelspec": {
      "display_name": "Python 3 (ipykernel)",
      "language": "python",
      "name": "python3"
    },
    "language_info": {
      "codemirror_mode": {
        "name": "ipython",
        "version": 3
      },
      "file_extension": ".py",
      "mimetype": "text/x-python",
      "name": "python",
      "nbconvert_exporter": "python",
      "pygments_lexer": "ipython3",
      "version": "3.8.18"
    }
  },
  "nbformat": 4,
  "nbformat_minor": 0
}